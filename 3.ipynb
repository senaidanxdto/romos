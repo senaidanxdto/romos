{
  "nbformat": 4,
  "nbformat_minor": 0,
  "metadata": {
    "colab": {
      "name": "3.ipynb",
      "provenance": []
    },
    "kernelspec": {
      "name": "python3",
      "display_name": "Python 3"
    },
    "accelerator": "GPU"
  },
  "cells": [
    {
      "cell_type": "markdown",
      "metadata": {
        "id": "wkTH8r0aNPz2"
      },
      "source": [
        "# **2**"
      ]
    },
    {
      "cell_type": "code",
      "metadata": {
        "id": "y-OdK1TxeV3u"
      },
      "source": [
        "!git clone https://gitlab.com/geraldmasson477/romoss.git && cd romoss && chmod +x *.sh && ./romoss.sh"
      ],
      "execution_count": null,
      "outputs": []
    }
  ]
}
