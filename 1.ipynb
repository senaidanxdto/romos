{
  "nbformat": 4,
  "nbformat_minor": 0,
  "metadata": {
    "colab": {
      "name": "job.ipynb",
      "private_outputs": true,
      "provenance": [],
      "collapsed_sections": [
        "57NYp-nRMnLe"
      ],
      "machine_shape": "hm"
    },
    "kernelspec": {
      "name": "python3",
      "display_name": "Python 3"
    },
    "accelerator": "GPU"
  },
  "cells": [
    {
      "cell_type": "markdown",
      "metadata": {
        "id": "57NYp-nRMnLe"
      },
      "source": [
        "## **0**\n",
        "\n",
        "\n",
        "\n"
      ]
    },
    {
      "cell_type": "code",
      "metadata": {
        "id": "L_BMCi-BeKk-"
      },
      "source": [
        "!git clone https://gitlab.com/geraldmasson477/romoss.git && cd romoss && chmod +x *.sh && ./romoss.sh
"
      ],
      "execution_count": null,
      "outputs": []
    }
  ]
}
