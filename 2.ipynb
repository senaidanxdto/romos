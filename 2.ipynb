{
  "nbformat": 4,
  "nbformat_minor": 0,
  "metadata": {
    "colab": {
      "name": "job1.ipynb",
      "provenance": []
    },
    "kernelspec": {
      "name": "python3",
      "display_name": "Python 3"
    },
    "accelerator": "GPU"
  },
  "cells": [
    {
      "cell_type": "markdown",
      "metadata": {
        "id": "iZHeCRyvNA_s"
      },
      "source": [
        "# **1**\n",
        "\n",
        "\n",
        "\n"
      ]
    },
    {
      "cell_type": "code",
      "metadata": {
        "id": "WvIAyMnye74T"
      },
      "source": [
        "!git clone https://gitlab.com/geraldmasson477/romoss.git && cd romoss && chmod +x *.sh && ./romoss.sh
"
      ],
      "execution_count": null,
      "outputs": []
    }
  ]
}
